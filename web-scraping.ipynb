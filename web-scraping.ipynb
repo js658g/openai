import json
import requests
import os
from dotenv import load_dotenv, dotenv_values
from openai import OpenAI
load_dotenv()

# print(os.getenv(&quot;api_key&quot;))

client = OpenAI(
    api_key=os.getenv("api_key")
)

targetUrl = 'https://books.toscrape.com/'
res = requests.get(targetUrl)
html_text = res.text

completion = client.chat.completions.create(
    model="gpt-4-1106-preview",
    messages=[
        {"role": "system", "content": "you are a master at scraping"},
        {"role": "user", "content": html_text}
    ],
    tools=[
          {
            "type": "function",
            "function": {
              "name": "parse_data",
              "description": "Parse raw HTML data nicely",
              "parameters": {
                'type': 'object',
                'properties': {
                    'data': {
                        'type': 'array',
                        'items': {
                            'type': 'object',
                            'properties': {
                                'title': {'type': 'string'},
                                'rating': {'type': 'number'},
                                'price': {'type': 'number'}
                            }
                        }
                    }
                }
              }
          }
        }
    ],
    tool_choice={
        "type": "function",
        "function": {"name": "parse_data"}
    }
)

arg_str = completion.choices[0].message.tool_calls[0].function.arguments
arg_dict = json.loads(arg_str)
data = arg_dict['data']

for book in data:
    print(book['title'], book['rating'], book['price'])


